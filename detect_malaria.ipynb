{
  "cells": [
    {
      "cell_type": "code",
      "execution_count": null,
      "metadata": {
        "colab": {
          "base_uri": "https://localhost:8080/"
        },
        "id": "A_4gLlyC_imO",
        "outputId": "91eae4df-df96-4b45-f7d0-a2cc5f3de688"
      },
      "outputs": [
        {
          "name": "stdout",
          "output_type": "stream",
          "text": [
            "Drive already mounted at /content/drive/; to attempt to forcibly remount, call drive.mount(\"/content/drive/\", force_remount=True).\n"
          ]
        }
      ],
      "source": [
        "from google.colab import drive\n",
        "drive.mount('/content/drive/')"
      ]
    },
    {
      "cell_type": "code",
      "execution_count": null,
      "metadata": {
        "id": "KJt3w3axqzuO"
      },
      "outputs": [],
      "source": [
        "# import the necessary packages\n",
        "from tensorflow.keras.preprocessing.image import ImageDataGenerator\n",
        "from tensorflow.keras.applications import MobileNetV2\n",
        "from tensorflow.keras.layers import AveragePooling2D,Dropout,Flatten,Dense,Input\n",
        "from tensorflow.keras.models import Model\n",
        "from tensorflow.keras.optimizers import Adam\n",
        "from tensorflow.keras.applications.mobilenet_v2 import preprocess_input\n",
        "from tensorflow.keras.preprocessing.image import img_to_array\n",
        "from tensorflow.keras.preprocessing.image import load_img\n",
        "from tensorflow.keras.utils import to_categorical\n",
        "from sklearn.preprocessing import LabelBinarizer\n",
        "from sklearn.model_selection import train_test_split\n",
        "from sklearn.metrics import classification_report\n",
        "from imutils import paths\n",
        "import matplotlib.pyplot as plt\n",
        "import numpy as np\n"
      ]
    },
    {
      "cell_type": "code",
      "execution_count": 48,
      "metadata": {
        "id": "Qg0rEo1GseTI"
      },
      "outputs": [],
      "source": [
        "# initialize the initial learning rate, number of epochs to train for,\n",
        "# and batch size\n",
        "INIT_LR = 1e-4\n",
        "EPOCHS = 60\n",
        "BS = 20"
      ]
    },
    {
      "cell_type": "code",
      "execution_count": null,
      "metadata": {
        "colab": {
          "base_uri": "https://localhost:8080/"
        },
        "id": "PgYoQRtF3Bm-",
        "outputId": "fc803857-5374-487f-87fa-f3964743b5a8"
      },
      "outputs": [
        {
          "name": "stdout",
          "output_type": "stream",
          "text": [
            "WARNING:tensorflow:`input_shape` is undefined or non-square, or `rows` is not in [96, 128, 160, 192, 224]. Weights for input shape (224, 224) will be loaded as the default.\n",
            "Downloading data from https://storage.googleapis.com/tensorflow/keras-applications/mobilenet_v2/mobilenet_v2_weights_tf_dim_ordering_tf_kernels_1.0_224_no_top.h5\n",
            "9412608/9406464 [==============================] - 0s 0us/step\n",
            "9420800/9406464 [==============================] - 0s 0us/step\n"
          ]
        }
      ],
      "source": [
        "# load the MobileNetV2 network, ensuring the head FC layer sets are\n",
        "# left off\n",
        "baseModel = MobileNetV2(weights=\"imagenet\", include_top=False,\n",
        "\tinput_tensor=Input(shape=(224, 224, 3)))"
      ]
    },
    {
      "cell_type": "code",
      "execution_count": null,
      "metadata": {
        "id": "x6moHIQH3Xg9"
      },
      "outputs": [],
      "source": [
        "# construct the head of the model that will be placed on top of the\n",
        "# the base model\n",
        "headModel = baseModel.output\n",
        "headModel = AveragePooling2D(pool_size=(7, 7))(headModel)\n",
        "headModel = Flatten(name=\"flatten\")(headModel)\n",
        "headModel = Dense(128, activation=\"relu\")(headModel)\n",
        "headModel = Dropout(0.5)(headModel)\n",
        "headModel = Dense(2, activation=\"softmax\")(headModel)"
      ]
    },
    {
      "cell_type": "code",
      "execution_count": null,
      "metadata": {
        "id": "swE20nFq4peQ"
      },
      "outputs": [],
      "source": [
        "# place the head FC model on top of the base model (this will become\n",
        "# the actual model we will train)\n",
        "model = Model(inputs=baseModel.input, outputs=headModel)"
      ]
    },
    {
      "cell_type": "code",
      "execution_count": null,
      "metadata": {
        "id": "hCZvM9DG4uwN"
      },
      "outputs": [],
      "source": [
        "# loop over all layers in the base model and freeze them so they will\n",
        "# *not* be updated during the first training process\n",
        "for layer in baseModel.layers:\n",
        "\tlayer.trainable = False"
      ]
    },
    {
      "cell_type": "code",
      "execution_count": 37,
      "metadata": {
        "colab": {
          "base_uri": "https://localhost:8080/"
        },
        "id": "6Pg9Ul7R40ho",
        "outputId": "9dfa38ae-6e08-468c-b668-703b7b9931ea"
      },
      "outputs": [
        {
          "output_type": "stream",
          "name": "stdout",
          "text": [
            "[INFO] compiling model...\n"
          ]
        },
        {
          "output_type": "stream",
          "name": "stderr",
          "text": [
            "/usr/local/lib/python3.7/dist-packages/keras/optimizer_v2/adam.py:105: UserWarning: The `lr` argument is deprecated, use `learning_rate` instead.\n",
            "  super(Adam, self).__init__(name, **kwargs)\n"
          ]
        }
      ],
      "source": [
        "# compile our model\n",
        "print(\"[INFO] compiling model...\")\n",
        "opt = Adam(lr=INIT_LR, decay=INIT_LR / EPOCHS)\n",
        "model.compile(loss=\"binary_crossentropy\", optimizer=opt,metrics=[\"accuracy\"])\n"
      ]
    },
    {
      "cell_type": "code",
      "execution_count": null,
      "metadata": {
        "colab": {
          "background_save": true
        },
        "id": "K7kbxXdj5HYx"
      },
      "outputs": [],
      "source": [
        "# construct the training image generator for data augmentation\n",
        "train_datagen = ImageDataGenerator(\n",
        "\trescale = 1./255,\n",
        "\trotation_range=20,\n",
        "\tzoom_range=0.15,\n",
        "\twidth_shift_range=0.2,\n",
        "\theight_shift_range=0.2,\n",
        "\tshear_range=0.15,\n",
        "\thorizontal_flip=True,\n",
        "\tfill_mode=\"nearest\")\n",
        "test_datagen = ImageDataGenerator(rescale = 1./255)"
      ]
    },
    {
      "cell_type": "code",
      "source": [
        "train_path = '/content/drive/MyDrive/Colab Notebooks/cell_images/train'\n",
        "test_path = '/content/drive/MyDrive/Colab Notebooks/cell_images/test'"
      ],
      "metadata": {
        "id": "1iU_ru0xz3wF"
      },
      "execution_count": 17,
      "outputs": []
    },
    {
      "cell_type": "code",
      "execution_count": 23,
      "metadata": {
        "colab": {
          "base_uri": "https://localhost:8080/"
        },
        "id": "GhZL-iY15o2J",
        "outputId": "729c20c6-8b1d-4926-a00f-bea4695b60f6"
      },
      "outputs": [
        {
          "output_type": "stream",
          "name": "stdout",
          "text": [
            "Found 2000 images belonging to 2 classes.\n"
          ]
        }
      ],
      "source": [
        "training_set = train_datagen.flow_from_directory(\n",
        "\ttrain_path,\n",
        "\ttarget_size=(224, 224),\n",
        "\tbatch_size = BS,\n",
        "\tclass_mode = 'categorical'\n",
        "\t)\n"
      ]
    },
    {
      "cell_type": "code",
      "source": [
        "test_set = train_datagen.flow_from_directory(\n",
        "\ttest_path,\n",
        "\ttarget_size=(224, 224),\n",
        "\tbatch_size = BS,\n",
        "\tclass_mode = 'categorical'\n",
        "\t)\n"
      ],
      "metadata": {
        "colab": {
          "base_uri": "https://localhost:8080/"
        },
        "id": "UtW0p5OT0XxD",
        "outputId": "3af21d7a-db45-4014-d8d6-1af6b1dbc47f"
      },
      "execution_count": 24,
      "outputs": [
        {
          "output_type": "stream",
          "name": "stdout",
          "text": [
            "Found 500 images belonging to 2 classes.\n"
          ]
        }
      ]
    },
    {
      "cell_type": "code",
      "source": [
        "from keras.callbacks import ModelCheckpoint"
      ],
      "metadata": {
        "id": "jkIgqsbzG9X1"
      },
      "execution_count": 42,
      "outputs": []
    },
    {
      "cell_type": "code",
      "source": [
        "filepath = '/content/drive/MyDrive/Colab Notebooks/malaria/my_best_malaria_model.epoch{epoch:02d}-loss{val_loss:.2f}.hdf5'\n",
        "checkpoint = ModelCheckpoint(filepath=filepath, \n",
        "                             monitor='val_loss',\n",
        "                             verbose=1, \n",
        "                             save_best_only=True,\n",
        "                             mode='min')"
      ],
      "metadata": {
        "id": "TNqzu-PoHADz"
      },
      "execution_count": 45,
      "outputs": []
    },
    {
      "cell_type": "code",
      "source": [
        "callbacks = [checkpoint]"
      ],
      "metadata": {
        "id": "qz5R6cZNIlzX"
      },
      "execution_count": 47,
      "outputs": []
    },
    {
      "cell_type": "code",
      "source": [
        "# train the head of the network\n",
        "print(\"[INFO] training head...\")\n",
        "H = model.fit_generator(training_set,\n",
        "\tsteps_per_epoch=len(training_set) // BS,\n",
        "\tvalidation_data=test_set,\n",
        "\tvalidation_steps=len(test_set) // BS ,\n",
        "\tepochs=EPOCHS,\n",
        "  callbacks=callbacks)\n"
      ],
      "metadata": {
        "colab": {
          "base_uri": "https://localhost:8080/"
        },
        "id": "s_BKAlwo0oid",
        "outputId": "f8de68b3-efc8-4b1a-a6ad-b4f74d17b1ec"
      },
      "execution_count": 49,
      "outputs": [
        {
          "output_type": "stream",
          "name": "stdout",
          "text": [
            "[INFO] training head...\n"
          ]
        },
        {
          "output_type": "stream",
          "name": "stderr",
          "text": [
            "/usr/local/lib/python3.7/dist-packages/ipykernel_launcher.py:8: UserWarning: `Model.fit_generator` is deprecated and will be removed in a future version. Please use `Model.fit`, which supports generators.\n",
            "  \n"
          ]
        },
        {
          "output_type": "stream",
          "name": "stdout",
          "text": [
            "Epoch 1/60\n",
            "5/5 [==============================] - ETA: 0s - loss: 0.2206 - accuracy: 0.9200\n",
            "Epoch 00001: val_loss improved from inf to 0.18553, saving model to /content/drive/MyDrive/Colab Notebooks/malaria/my_best_malaria_model.epoch01-loss0.19.hdf5\n"
          ]
        },
        {
          "output_type": "stream",
          "name": "stderr",
          "text": [
            "/usr/local/lib/python3.7/dist-packages/keras/engine/functional.py:1410: CustomMaskWarning: Custom mask layers require a config and must override get_config. When loading, the custom mask layer must be passed to the custom_objects argument.\n",
            "  layer_config = serialize_layer_fn(layer)\n"
          ]
        },
        {
          "output_type": "stream",
          "name": "stdout",
          "text": [
            "\b\b\b\b\b\b\b\b\b\b\b\b\b\b\b\b\b\b\b\b\b\b\b\b\b\b\b\b\b\b\b\b\b\b\b\b\b\b\b\b\b\b\b\b\b\b\b\b\b\b\b\b\b\b\b\b\b\b\b\b\b\b\b\b\b\b\b\b\b\b\b\b\b\b\b\b\b\b\b\b\r5/5 [==============================] - 7s 1s/step - loss: 0.2206 - accuracy: 0.9200 - val_loss: 0.1855 - val_accuracy: 1.0000\n",
            "Epoch 2/60\n",
            "5/5 [==============================] - ETA: 0s - loss: 0.2264 - accuracy: 0.9300\n",
            "Epoch 00002: val_loss improved from 0.18553 to 0.16278, saving model to /content/drive/MyDrive/Colab Notebooks/malaria/my_best_malaria_model.epoch02-loss0.16.hdf5\n",
            "5/5 [==============================] - 6s 1s/step - loss: 0.2264 - accuracy: 0.9300 - val_loss: 0.1628 - val_accuracy: 0.9500\n",
            "Epoch 3/60\n",
            "5/5 [==============================] - ETA: 0s - loss: 0.2372 - accuracy: 0.9300\n",
            "Epoch 00003: val_loss did not improve from 0.16278\n",
            "5/5 [==============================] - 6s 1s/step - loss: 0.2372 - accuracy: 0.9300 - val_loss: 0.3465 - val_accuracy: 0.9500\n",
            "Epoch 4/60\n",
            "5/5 [==============================] - ETA: 0s - loss: 0.2887 - accuracy: 0.9100\n",
            "Epoch 00004: val_loss improved from 0.16278 to 0.11099, saving model to /content/drive/MyDrive/Colab Notebooks/malaria/my_best_malaria_model.epoch04-loss0.11.hdf5\n",
            "5/5 [==============================] - 7s 1s/step - loss: 0.2887 - accuracy: 0.9100 - val_loss: 0.1110 - val_accuracy: 0.9500\n",
            "Epoch 5/60\n",
            "5/5 [==============================] - ETA: 0s - loss: 0.2990 - accuracy: 0.8700\n",
            "Epoch 00005: val_loss did not improve from 0.11099\n",
            "5/5 [==============================] - 6s 1s/step - loss: 0.2990 - accuracy: 0.8700 - val_loss: 0.1571 - val_accuracy: 0.9500\n",
            "Epoch 6/60\n",
            "5/5 [==============================] - ETA: 0s - loss: 0.2091 - accuracy: 0.9400\n",
            "Epoch 00006: val_loss did not improve from 0.11099\n",
            "5/5 [==============================] - 6s 1s/step - loss: 0.2091 - accuracy: 0.9400 - val_loss: 0.2090 - val_accuracy: 0.9000\n",
            "Epoch 7/60\n",
            "5/5 [==============================] - ETA: 0s - loss: 0.2493 - accuracy: 0.9000\n",
            "Epoch 00007: val_loss did not improve from 0.11099\n",
            "5/5 [==============================] - 6s 1s/step - loss: 0.2493 - accuracy: 0.9000 - val_loss: 0.2451 - val_accuracy: 0.9000\n",
            "Epoch 8/60\n",
            "5/5 [==============================] - ETA: 0s - loss: 0.2690 - accuracy: 0.9000\n",
            "Epoch 00008: val_loss did not improve from 0.11099\n",
            "5/5 [==============================] - 6s 1s/step - loss: 0.2690 - accuracy: 0.9000 - val_loss: 0.1887 - val_accuracy: 0.9500\n",
            "Epoch 9/60\n",
            "5/5 [==============================] - ETA: 0s - loss: 0.2900 - accuracy: 0.9000\n",
            "Epoch 00009: val_loss did not improve from 0.11099\n",
            "5/5 [==============================] - 6s 1s/step - loss: 0.2900 - accuracy: 0.9000 - val_loss: 0.1588 - val_accuracy: 0.9500\n",
            "Epoch 10/60\n",
            "5/5 [==============================] - ETA: 0s - loss: 0.2420 - accuracy: 0.9200\n",
            "Epoch 00010: val_loss did not improve from 0.11099\n",
            "5/5 [==============================] - 6s 1s/step - loss: 0.2420 - accuracy: 0.9200 - val_loss: 0.1865 - val_accuracy: 0.9500\n",
            "Epoch 11/60\n",
            "5/5 [==============================] - ETA: 0s - loss: 0.2407 - accuracy: 0.8900\n",
            "Epoch 00011: val_loss did not improve from 0.11099\n",
            "5/5 [==============================] - 6s 1s/step - loss: 0.2407 - accuracy: 0.8900 - val_loss: 0.2037 - val_accuracy: 0.9000\n",
            "Epoch 12/60\n",
            "5/5 [==============================] - ETA: 0s - loss: 0.2343 - accuracy: 0.8800\n",
            "Epoch 00012: val_loss did not improve from 0.11099\n",
            "5/5 [==============================] - 6s 1s/step - loss: 0.2343 - accuracy: 0.8800 - val_loss: 0.2162 - val_accuracy: 0.9500\n",
            "Epoch 13/60\n",
            "5/5 [==============================] - ETA: 0s - loss: 0.1764 - accuracy: 0.9500\n",
            "Epoch 00013: val_loss did not improve from 0.11099\n",
            "5/5 [==============================] - 6s 1s/step - loss: 0.1764 - accuracy: 0.9500 - val_loss: 0.1536 - val_accuracy: 0.9000\n",
            "Epoch 14/60\n",
            "5/5 [==============================] - ETA: 0s - loss: 0.2478 - accuracy: 0.9100\n",
            "Epoch 00014: val_loss did not improve from 0.11099\n",
            "5/5 [==============================] - 6s 1s/step - loss: 0.2478 - accuracy: 0.9100 - val_loss: 0.1148 - val_accuracy: 0.9500\n",
            "Epoch 15/60\n",
            "5/5 [==============================] - ETA: 0s - loss: 0.3702 - accuracy: 0.8600\n",
            "Epoch 00015: val_loss did not improve from 0.11099\n",
            "5/5 [==============================] - 6s 1s/step - loss: 0.3702 - accuracy: 0.8600 - val_loss: 0.1541 - val_accuracy: 0.9500\n",
            "Epoch 16/60\n",
            "5/5 [==============================] - ETA: 0s - loss: 0.2811 - accuracy: 0.9100\n",
            "Epoch 00016: val_loss did not improve from 0.11099\n",
            "5/5 [==============================] - 6s 1s/step - loss: 0.2811 - accuracy: 0.9100 - val_loss: 0.4866 - val_accuracy: 0.8500\n",
            "Epoch 17/60\n",
            "5/5 [==============================] - ETA: 0s - loss: 0.2146 - accuracy: 0.9500\n",
            "Epoch 00017: val_loss did not improve from 0.11099\n",
            "5/5 [==============================] - 6s 1s/step - loss: 0.2146 - accuracy: 0.9500 - val_loss: 0.1854 - val_accuracy: 0.9000\n",
            "Epoch 18/60\n",
            "5/5 [==============================] - ETA: 0s - loss: 0.2362 - accuracy: 0.9200\n",
            "Epoch 00018: val_loss did not improve from 0.11099\n",
            "5/5 [==============================] - 6s 1s/step - loss: 0.2362 - accuracy: 0.9200 - val_loss: 0.3005 - val_accuracy: 0.8000\n",
            "Epoch 19/60\n",
            "5/5 [==============================] - ETA: 0s - loss: 0.2438 - accuracy: 0.9300\n",
            "Epoch 00019: val_loss did not improve from 0.11099\n",
            "5/5 [==============================] - 6s 1s/step - loss: 0.2438 - accuracy: 0.9300 - val_loss: 0.2174 - val_accuracy: 0.9000\n",
            "Epoch 20/60\n",
            "5/5 [==============================] - ETA: 0s - loss: 0.2482 - accuracy: 0.8800\n",
            "Epoch 00020: val_loss did not improve from 0.11099\n",
            "5/5 [==============================] - 6s 1s/step - loss: 0.2482 - accuracy: 0.8800 - val_loss: 0.2386 - val_accuracy: 0.9000\n",
            "Epoch 21/60\n",
            "5/5 [==============================] - ETA: 0s - loss: 0.2350 - accuracy: 0.9100\n",
            "Epoch 00021: val_loss improved from 0.11099 to 0.07639, saving model to /content/drive/MyDrive/Colab Notebooks/malaria/my_best_malaria_model.epoch21-loss0.08.hdf5\n",
            "5/5 [==============================] - 6s 1s/step - loss: 0.2350 - accuracy: 0.9100 - val_loss: 0.0764 - val_accuracy: 1.0000\n",
            "Epoch 22/60\n",
            "5/5 [==============================] - ETA: 0s - loss: 0.2549 - accuracy: 0.9100\n",
            "Epoch 00022: val_loss did not improve from 0.07639\n",
            "5/5 [==============================] - 6s 1s/step - loss: 0.2549 - accuracy: 0.9100 - val_loss: 0.2817 - val_accuracy: 0.8500\n",
            "Epoch 23/60\n",
            "5/5 [==============================] - ETA: 0s - loss: 0.2056 - accuracy: 0.9200\n",
            "Epoch 00023: val_loss did not improve from 0.07639\n",
            "5/5 [==============================] - 6s 1s/step - loss: 0.2056 - accuracy: 0.9200 - val_loss: 0.2253 - val_accuracy: 0.8500\n",
            "Epoch 24/60\n",
            "5/5 [==============================] - ETA: 0s - loss: 0.1975 - accuracy: 0.9300\n",
            "Epoch 00024: val_loss did not improve from 0.07639\n",
            "5/5 [==============================] - 6s 1s/step - loss: 0.1975 - accuracy: 0.9300 - val_loss: 0.1632 - val_accuracy: 0.9500\n",
            "Epoch 25/60\n",
            "5/5 [==============================] - ETA: 0s - loss: 0.2141 - accuracy: 0.9500\n",
            "Epoch 00025: val_loss did not improve from 0.07639\n",
            "5/5 [==============================] - 6s 1s/step - loss: 0.2141 - accuracy: 0.9500 - val_loss: 0.2435 - val_accuracy: 0.9500\n",
            "Epoch 26/60\n",
            "5/5 [==============================] - ETA: 0s - loss: 0.2736 - accuracy: 0.9000\n",
            "Epoch 00026: val_loss did not improve from 0.07639\n",
            "5/5 [==============================] - 6s 1s/step - loss: 0.2736 - accuracy: 0.9000 - val_loss: 0.2923 - val_accuracy: 0.8500\n",
            "Epoch 27/60\n",
            "5/5 [==============================] - ETA: 0s - loss: 0.3796 - accuracy: 0.8300\n",
            "Epoch 00027: val_loss did not improve from 0.07639\n",
            "5/5 [==============================] - 6s 1s/step - loss: 0.3796 - accuracy: 0.8300 - val_loss: 0.2362 - val_accuracy: 0.9000\n",
            "Epoch 28/60\n",
            "5/5 [==============================] - ETA: 0s - loss: 0.2107 - accuracy: 0.9600\n",
            "Epoch 00028: val_loss improved from 0.07639 to 0.06651, saving model to /content/drive/MyDrive/Colab Notebooks/malaria/my_best_malaria_model.epoch28-loss0.07.hdf5\n",
            "5/5 [==============================] - 6s 1s/step - loss: 0.2107 - accuracy: 0.9600 - val_loss: 0.0665 - val_accuracy: 1.0000\n",
            "Epoch 29/60\n",
            "5/5 [==============================] - ETA: 0s - loss: 0.1883 - accuracy: 0.9400\n",
            "Epoch 00029: val_loss did not improve from 0.06651\n",
            "5/5 [==============================] - 6s 1s/step - loss: 0.1883 - accuracy: 0.9400 - val_loss: 0.2131 - val_accuracy: 0.9500\n",
            "Epoch 30/60\n",
            "5/5 [==============================] - ETA: 0s - loss: 0.1718 - accuracy: 0.9500\n",
            "Epoch 00030: val_loss did not improve from 0.06651\n",
            "5/5 [==============================] - 6s 1s/step - loss: 0.1718 - accuracy: 0.9500 - val_loss: 0.1208 - val_accuracy: 1.0000\n",
            "Epoch 31/60\n",
            "5/5 [==============================] - ETA: 0s - loss: 0.2076 - accuracy: 0.9200\n",
            "Epoch 00031: val_loss did not improve from 0.06651\n",
            "5/5 [==============================] - 6s 1s/step - loss: 0.2076 - accuracy: 0.9200 - val_loss: 0.2902 - val_accuracy: 0.8500\n",
            "Epoch 32/60\n",
            "5/5 [==============================] - ETA: 0s - loss: 0.2051 - accuracy: 0.9300\n",
            "Epoch 00032: val_loss did not improve from 0.06651\n",
            "5/5 [==============================] - 6s 1s/step - loss: 0.2051 - accuracy: 0.9300 - val_loss: 0.0800 - val_accuracy: 1.0000\n",
            "Epoch 33/60\n",
            "5/5 [==============================] - ETA: 0s - loss: 0.2473 - accuracy: 0.9300\n",
            "Epoch 00033: val_loss did not improve from 0.06651\n",
            "5/5 [==============================] - 6s 1s/step - loss: 0.2473 - accuracy: 0.9300 - val_loss: 0.0934 - val_accuracy: 0.9500\n",
            "Epoch 34/60\n",
            "5/5 [==============================] - ETA: 0s - loss: 0.2217 - accuracy: 0.9200\n",
            "Epoch 00034: val_loss did not improve from 0.06651\n",
            "5/5 [==============================] - 6s 1s/step - loss: 0.2217 - accuracy: 0.9200 - val_loss: 0.2761 - val_accuracy: 0.9000\n",
            "Epoch 35/60\n",
            "5/5 [==============================] - ETA: 0s - loss: 0.2595 - accuracy: 0.8600\n",
            "Epoch 00035: val_loss did not improve from 0.06651\n",
            "5/5 [==============================] - 6s 1s/step - loss: 0.2595 - accuracy: 0.8600 - val_loss: 0.2229 - val_accuracy: 0.9000\n",
            "Epoch 36/60\n",
            "5/5 [==============================] - ETA: 0s - loss: 0.1954 - accuracy: 0.9600\n",
            "Epoch 00036: val_loss did not improve from 0.06651\n",
            "5/5 [==============================] - 6s 1s/step - loss: 0.1954 - accuracy: 0.9600 - val_loss: 0.2195 - val_accuracy: 0.9000\n",
            "Epoch 37/60\n",
            "5/5 [==============================] - ETA: 0s - loss: 0.2946 - accuracy: 0.9300\n",
            "Epoch 00037: val_loss did not improve from 0.06651\n",
            "5/5 [==============================] - 6s 1s/step - loss: 0.2946 - accuracy: 0.9300 - val_loss: 0.0697 - val_accuracy: 1.0000\n",
            "Epoch 38/60\n",
            "5/5 [==============================] - ETA: 0s - loss: 0.2615 - accuracy: 0.8900\n",
            "Epoch 00038: val_loss did not improve from 0.06651\n",
            "5/5 [==============================] - 6s 1s/step - loss: 0.2615 - accuracy: 0.8900 - val_loss: 0.2588 - val_accuracy: 0.8500\n",
            "Epoch 39/60\n",
            "5/5 [==============================] - ETA: 0s - loss: 0.2467 - accuracy: 0.9200\n",
            "Epoch 00039: val_loss did not improve from 0.06651\n",
            "5/5 [==============================] - 6s 1s/step - loss: 0.2467 - accuracy: 0.9200 - val_loss: 0.2319 - val_accuracy: 0.9000\n",
            "Epoch 40/60\n",
            "5/5 [==============================] - ETA: 0s - loss: 0.2190 - accuracy: 0.9200\n",
            "Epoch 00040: val_loss did not improve from 0.06651\n",
            "5/5 [==============================] - 6s 1s/step - loss: 0.2190 - accuracy: 0.9200 - val_loss: 0.1091 - val_accuracy: 1.0000\n",
            "Epoch 41/60\n",
            "5/5 [==============================] - ETA: 0s - loss: 0.2384 - accuracy: 0.9300\n",
            "Epoch 00041: val_loss did not improve from 0.06651\n",
            "5/5 [==============================] - 6s 1s/step - loss: 0.2384 - accuracy: 0.9300 - val_loss: 0.2984 - val_accuracy: 0.8000\n",
            "Epoch 42/60\n",
            "5/5 [==============================] - ETA: 0s - loss: 0.1600 - accuracy: 0.9300\n",
            "Epoch 00042: val_loss did not improve from 0.06651\n",
            "5/5 [==============================] - 6s 1s/step - loss: 0.1600 - accuracy: 0.9300 - val_loss: 0.1693 - val_accuracy: 0.9500\n",
            "Epoch 43/60\n",
            "5/5 [==============================] - ETA: 0s - loss: 0.3150 - accuracy: 0.9000\n",
            "Epoch 00043: val_loss did not improve from 0.06651\n",
            "5/5 [==============================] - 6s 1s/step - loss: 0.3150 - accuracy: 0.9000 - val_loss: 0.3207 - val_accuracy: 0.8500\n",
            "Epoch 44/60\n",
            "5/5 [==============================] - ETA: 0s - loss: 0.3350 - accuracy: 0.8800\n",
            "Epoch 00044: val_loss did not improve from 0.06651\n",
            "5/5 [==============================] - 6s 1s/step - loss: 0.3350 - accuracy: 0.8800 - val_loss: 0.3572 - val_accuracy: 0.9000\n",
            "Epoch 45/60\n",
            "5/5 [==============================] - ETA: 0s - loss: 0.1756 - accuracy: 0.9300\n",
            "Epoch 00045: val_loss did not improve from 0.06651\n",
            "5/5 [==============================] - 6s 1s/step - loss: 0.1756 - accuracy: 0.9300 - val_loss: 0.3271 - val_accuracy: 0.8500\n",
            "Epoch 46/60\n",
            "5/5 [==============================] - ETA: 0s - loss: 0.2091 - accuracy: 0.9400\n",
            "Epoch 00046: val_loss did not improve from 0.06651\n",
            "5/5 [==============================] - 6s 1s/step - loss: 0.2091 - accuracy: 0.9400 - val_loss: 0.3470 - val_accuracy: 0.8500\n",
            "Epoch 47/60\n",
            "5/5 [==============================] - ETA: 0s - loss: 0.2434 - accuracy: 0.9400\n",
            "Epoch 00047: val_loss did not improve from 0.06651\n",
            "5/5 [==============================] - 6s 1s/step - loss: 0.2434 - accuracy: 0.9400 - val_loss: 0.1151 - val_accuracy: 0.9500\n",
            "Epoch 48/60\n",
            "5/5 [==============================] - ETA: 0s - loss: 0.2256 - accuracy: 0.8800\n",
            "Epoch 00048: val_loss did not improve from 0.06651\n",
            "5/5 [==============================] - 6s 1s/step - loss: 0.2256 - accuracy: 0.8800 - val_loss: 0.2617 - val_accuracy: 0.9000\n",
            "Epoch 49/60\n",
            "5/5 [==============================] - ETA: 0s - loss: 0.2135 - accuracy: 0.9100\n",
            "Epoch 00049: val_loss did not improve from 0.06651\n",
            "5/5 [==============================] - 6s 1s/step - loss: 0.2135 - accuracy: 0.9100 - val_loss: 0.2006 - val_accuracy: 0.9500\n",
            "Epoch 50/60\n",
            "5/5 [==============================] - ETA: 0s - loss: 0.2810 - accuracy: 0.9000\n",
            "Epoch 00050: val_loss did not improve from 0.06651\n",
            "5/5 [==============================] - 6s 1s/step - loss: 0.2810 - accuracy: 0.9000 - val_loss: 0.4149 - val_accuracy: 0.7500\n",
            "Epoch 51/60\n",
            "5/5 [==============================] - ETA: 0s - loss: 0.2967 - accuracy: 0.8900\n",
            "Epoch 00051: val_loss did not improve from 0.06651\n",
            "5/5 [==============================] - 6s 1s/step - loss: 0.2967 - accuracy: 0.8900 - val_loss: 0.1557 - val_accuracy: 0.9500\n",
            "Epoch 52/60\n",
            "5/5 [==============================] - ETA: 0s - loss: 0.2338 - accuracy: 0.9400\n",
            "Epoch 00052: val_loss did not improve from 0.06651\n",
            "5/5 [==============================] - 6s 1s/step - loss: 0.2338 - accuracy: 0.9400 - val_loss: 0.1803 - val_accuracy: 0.9500\n",
            "Epoch 53/60\n",
            "5/5 [==============================] - ETA: 0s - loss: 0.2560 - accuracy: 0.9100\n",
            "Epoch 00053: val_loss did not improve from 0.06651\n",
            "5/5 [==============================] - 6s 1s/step - loss: 0.2560 - accuracy: 0.9100 - val_loss: 0.3334 - val_accuracy: 0.8000\n",
            "Epoch 54/60\n",
            "5/5 [==============================] - ETA: 0s - loss: 0.2024 - accuracy: 0.9200\n",
            "Epoch 00054: val_loss did not improve from 0.06651\n",
            "5/5 [==============================] - 6s 1s/step - loss: 0.2024 - accuracy: 0.9200 - val_loss: 0.1459 - val_accuracy: 0.9000\n",
            "Epoch 55/60\n",
            "5/5 [==============================] - ETA: 0s - loss: 0.3116 - accuracy: 0.8600\n",
            "Epoch 00055: val_loss did not improve from 0.06651\n",
            "5/5 [==============================] - 6s 1s/step - loss: 0.3116 - accuracy: 0.8600 - val_loss: 0.1595 - val_accuracy: 0.9500\n",
            "Epoch 56/60\n",
            "5/5 [==============================] - ETA: 0s - loss: 0.1555 - accuracy: 0.9500\n",
            "Epoch 00056: val_loss did not improve from 0.06651\n",
            "5/5 [==============================] - 6s 1s/step - loss: 0.1555 - accuracy: 0.9500 - val_loss: 0.2243 - val_accuracy: 0.9000\n",
            "Epoch 57/60\n",
            "5/5 [==============================] - ETA: 0s - loss: 0.1996 - accuracy: 0.9400\n",
            "Epoch 00057: val_loss did not improve from 0.06651\n",
            "5/5 [==============================] - 6s 1s/step - loss: 0.1996 - accuracy: 0.9400 - val_loss: 0.0969 - val_accuracy: 1.0000\n",
            "Epoch 58/60\n",
            "5/5 [==============================] - ETA: 0s - loss: 0.1942 - accuracy: 0.9500\n",
            "Epoch 00058: val_loss did not improve from 0.06651\n",
            "5/5 [==============================] - 6s 1s/step - loss: 0.1942 - accuracy: 0.9500 - val_loss: 0.3432 - val_accuracy: 0.8500\n",
            "Epoch 59/60\n",
            "5/5 [==============================] - ETA: 0s - loss: 0.2183 - accuracy: 0.8800\n",
            "Epoch 00059: val_loss did not improve from 0.06651\n",
            "5/5 [==============================] - 6s 1s/step - loss: 0.2183 - accuracy: 0.8800 - val_loss: 0.2661 - val_accuracy: 0.9000\n",
            "Epoch 60/60\n",
            "5/5 [==============================] - ETA: 0s - loss: 0.2352 - accuracy: 0.9100\n",
            "Epoch 00060: val_loss did not improve from 0.06651\n",
            "5/5 [==============================] - 6s 1s/step - loss: 0.2352 - accuracy: 0.9100 - val_loss: 0.3083 - val_accuracy: 0.8500\n"
          ]
        }
      ]
    },
    {
      "cell_type": "code",
      "source": [
        "from keras.models import load_model"
      ],
      "metadata": {
        "id": "7eT_JHrZM6Kb"
      },
      "execution_count": 51,
      "outputs": []
    },
    {
      "cell_type": "code",
      "source": [
        "model = load_model('/content/drive/MyDrive/Colab Notebooks/malaria/my_best_malaria_model.epoch28-loss0.07.hdf5')\n",
        "pred = model.predict(test_set)"
      ],
      "metadata": {
        "id": "mFJ3AW5ZMZgX"
      },
      "execution_count": 54,
      "outputs": []
    },
    {
      "cell_type": "code",
      "source": [
        "# make predictions on the testing set\n",
        "print(\"[INFO] evaluating network...\")\n",
        "model.evaluate(test_set,batch_size= BS)"
      ],
      "metadata": {
        "colab": {
          "base_uri": "https://localhost:8080/"
        },
        "id": "ObSUJBLm6YKC",
        "outputId": "0c257c75-dbf9-4d98-eb80-b72f6629d242"
      },
      "execution_count": 57,
      "outputs": [
        {
          "output_type": "stream",
          "name": "stdout",
          "text": [
            "[INFO] evaluating network...\n",
            "25/25 [==============================] - 22s 848ms/step - loss: 0.2165 - accuracy: 0.9340\n"
          ]
        },
        {
          "output_type": "execute_result",
          "data": {
            "text/plain": [
              "[0.2164783477783203, 0.9340000152587891]"
            ]
          },
          "metadata": {},
          "execution_count": 57
        }
      ]
    },
    {
      "cell_type": "code",
      "source": [
        "# plot the training loss and accuracy\n",
        "N = EPOCHS\n",
        "plt.style.use(\"ggplot\")\n",
        "plt.figure()\n",
        "plt.plot(np.arange(0, N), H.history[\"loss\"], label=\"train_loss\")\n",
        "plt.plot(np.arange(0, N), H.history[\"val_loss\"], label=\"val_loss\")\n",
        "plt.plot(np.arange(0, N), H.history[\"accuracy\"], label=\"train_acc\")\n",
        "plt.plot(np.arange(0, N), H.history[\"val_accuracy\"], label=\"val_acc\")\n",
        "plt.title(\"Training Loss and Accuracy\")\n",
        "plt.xlabel(\"Epoch #\")\n",
        "plt.ylabel(\"Loss/Accuracy\")\n",
        "plt.legend(loc=\"lower left\")\n",
        "plt.savefig(\"plot.png\")"
      ],
      "metadata": {
        "colab": {
          "base_uri": "https://localhost:8080/",
          "height": 299
        },
        "id": "pDiN1qsw84PG",
        "outputId": "7948f1ae-e6cf-4171-9002-1065723ca5b2"
      },
      "execution_count": 58,
      "outputs": [
        {
          "output_type": "display_data",
          "data": {
            "image/png": "[encoded data removed]",
            "text/plain": [
              "<Figure size 432x288 with 1 Axes>"
            ]
          },
          "metadata": {}
        }
      ]
    }
  ],
  "metadata": {
    "colab": {
      "collapsed_sections": [],
      "name": "detect-malaria.ipynb",
      "provenance": []
    },
    "kernelspec": {
      "display_name": "Python 3",
      "name": "python3"
    },
    "language_info": {
      "name": "python"
    }
  },
  "nbformat": 4,
  "nbformat_minor": 0
}